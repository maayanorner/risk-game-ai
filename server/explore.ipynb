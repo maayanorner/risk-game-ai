{
 "cells": [
  {
   "cell_type": "code",
   "execution_count": 1,
   "metadata": {},
   "outputs": [],
   "source": [
    "from game import Game\n",
    "\n",
    "\n",
    "n_players = 5\n",
    "# 7 type is minimax\n",
    "player_types = [7 for p in range(n_players)]\n",
    "game = Game(map=\"USA\", player_types=player_types, players_num=len(player_types))\n",
    "game.start()"
   ]
  },
  {
   "cell_type": "code",
   "execution_count": 2,
   "metadata": {},
   "outputs": [
    {
     "data": {
      "text/plain": [
       "{0: {'Montana': 2,\n",
       "  'Maryland': 3,\n",
       "  'Indiana': 1,\n",
       "  'Washington': 2,\n",
       "  'Kentucky': 3,\n",
       "  'Michigan': 3,\n",
       "  'New Hampshire': 2,\n",
       "  'Missouri': 2,\n",
       "  'Nebraska': 2},\n",
       " 1: {'Tennessee': 2,\n",
       "  'Wyoming': 2,\n",
       "  'Louisiana': 2,\n",
       "  'Idaho': 2,\n",
       "  'Kansas': 2,\n",
       "  'New York': 3,\n",
       "  'Pennsylvania': 1,\n",
       "  'Rhode Island': 2,\n",
       "  'Mississippi': 1,\n",
       "  'West Virginia': 1,\n",
       "  'Iowa': 2},\n",
       " 2: {'Minnesota': 4,\n",
       "  'Wisconsin': 3,\n",
       "  'California': 2,\n",
       "  'Vermont': 1,\n",
       "  'Hawaii': 1,\n",
       "  'Delaware': 1,\n",
       "  'Oklahoma': 2,\n",
       "  'New Mexico': 2,\n",
       "  'Texas': 3,\n",
       "  'Georgia': 1},\n",
       " 3: {'Massachusetts': 3,\n",
       "  'Ohio': 3,\n",
       "  'Oregon': 2,\n",
       "  'New Jersey': 2,\n",
       "  'Illinois': 3,\n",
       "  'Connecticut': 2,\n",
       "  'Alabama': 1,\n",
       "  'South Carolina': 4},\n",
       " 4: {'Arizona': 2,\n",
       "  'Colorado': 1,\n",
       "  'Florida': 2,\n",
       "  'Maine': 2,\n",
       "  'Nevada': 1,\n",
       "  'Virginia': 1,\n",
       "  'North Dakota': 2,\n",
       "  'Utah': 4,\n",
       "  'North Carolina': 2,\n",
       "  'Arkansas': 2,\n",
       "  'Alaska': 1},\n",
       " -1: {'South Dakota': 0}}"
      ]
     },
     "execution_count": 2,
     "metadata": {},
     "output_type": "execute_result"
    }
   ],
   "source": [
    "game.player_turn\n",
    "game.json()['state']"
   ]
  },
  {
   "cell_type": "code",
   "execution_count": 3,
   "metadata": {},
   "outputs": [
    {
     "data": {
      "text/plain": [
       "[<player.Player at 0x7f3d2405ad30>,\n",
       " <player.Player at 0x7f3d2405ad90>,\n",
       " <player.Player at 0x7f3d2405adc0>,\n",
       " <player.Player at 0x7f3d2405adf0>,\n",
       " <player.Player at 0x7f3d2405ae20>]"
      ]
     },
     "execution_count": 3,
     "metadata": {},
     "output_type": "execute_result"
    }
   ],
   "source": [
    "game.players"
   ]
  },
  {
   "cell_type": "code",
   "execution_count": 4,
   "metadata": {},
   "outputs": [],
   "source": [
    "%matplotlib inline"
   ]
  },
  {
   "cell_type": "code",
   "execution_count": 5,
   "metadata": {},
   "outputs": [],
   "source": [
    "PLAYER_COLORS = {\n",
    "    -1: 'lightgray',  # Light gray for neutral\n",
    "    0: 'lightblue',   \n",
    "    1: 'lightpink', \n",
    "    2: 'lightgreen',\n",
    "    3: 'lightyellow',\n",
    "    4: 'lightsalmon',\n",
    "    5: 'lightcoral',\n",
    "    6: 'lightcyan',    # Light cyan for player 6\n",
    "    7: 'mediumpurple',    # Light pink for player 7\n",
    "}"
   ]
  },
  {
   "cell_type": "code",
   "execution_count": 6,
   "metadata": {},
   "outputs": [],
   "source": [
    "from collections import defaultdict\n",
    "\n",
    "\n",
    "def count_edges_between_owners(G, player_colors=PLAYER_COLORS):\n",
    "    owner_edge_counts = defaultdict(int)\n",
    "\n",
    "    for u, v in G.edges():\n",
    "        owner_u = G.nodes[u].get('owner')\n",
    "        owner_v = G.nodes[v].get('owner')\n",
    "\n",
    "        if owner_u is not None and owner_v is not None and owner_u != owner_v and -1 not in [owner_u, owner_v]:\n",
    "            owner_edge_counts[(player_colors[owner_u], player_colors[owner_v])] += 1\n",
    "            owner_edge_counts[(player_colors[owner_v], player_colors[owner_u])] += 1\n",
    "\n",
    "    return owner_edge_counts\n",
    "\n",
    "\n",
    "def remove_duplicates_from_dict(d, filter_by_player=None, player_colors=PLAYER_COLORS):\n",
    "    sorted_dict = {}\n",
    "    for key, value in d.items():\n",
    "        if filter_by_player is not None and player_colors[filter_by_player] not in key:\n",
    "            continue\n",
    "        sorted_key = tuple(sorted(key))\n",
    "        if sorted_key in sorted_dict and sorted_dict[sorted_key] != value:\n",
    "            raise ValueError(\"Cannot remove duplicates with different values from a directed graph.\")\n",
    "        sorted_dict[sorted_key] = value\n",
    "    return sorted_dict\n",
    "\n",
    "\n",
    "#remove_duplicates_from_dict(count_edges_between_owners(G))"
   ]
  },
  {
   "cell_type": "code",
   "execution_count": 7,
   "metadata": {},
   "outputs": [],
   "source": [
    "import numpy as np\n",
    "import pandas as pd\n",
    "from scipy.stats import spearmanr, pearsonr\n",
    "\n",
    "\n",
    "def get_edges_df(player, shared_edges):\n",
    "    data = {}\n",
    "    for edge, n_edges in shared_edges.items():\n",
    "        edge_other_player = [p for p in edge if p != player][0]\n",
    "        data[edge_other_player] = n_edges\n",
    "    \n",
    "    return pd.Series(data)\n",
    "\n",
    "\n",
    "def calculate_and_sort_spearman_corr(int_data, float_data):\n",
    "    float_data = float_data.sort_index()\n",
    "    for p in float_data.index:\n",
    "        if p not in int_data:\n",
    "            int_data[p] = 0\n",
    "    int_data = int_data.sort_index()\n",
    "    # Calculate Spearman correlation\n",
    "    spearman_corr, _ = spearmanr(int_data, float_data)\n",
    "\n",
    "    return spearman_corr"
   ]
  },
  {
   "cell_type": "code",
   "execution_count": 15,
   "metadata": {},
   "outputs": [
    {
     "name": "stdout",
     "output_type": "stream",
     "text": [
      "step number 0 @@@@@@@@@@@@@@@@@@@@@@@@@@@@\n",
      "simulation 0\n",
      "compute for depth 0\n",
      "lightblue plays!\n",
      "{1: 0.2848685801709123, 2: 0.23422712984189867, 3: 0.10912318253551963, 4: 0.34426516672806184}\n",
      "{'move_type': 'reinforce', 'territory': 'Maryland', 'troops': 3}\n",
      "{1: -0.3919088741204608, 2: -0.3433846735700314, 3: -0.41384300100551213, 4: -0.34370047429720996}\n",
      "{'move_type': 'attack', 'attacking': 'Kansas', 'troops': 3, 'attacked': 'Nebraska', 'attacked_player': 1, 'won': 1, 'probability': 0.15533333333333335}\n",
      "DICE: [6, 5, 1] [6, 5, 5]\n",
      "{1: -0.3016434407148886, 2: -0.3674959762649599, 3: -0.5113844544745604, 4: -0.39763843738683335}\n",
      "{'move_type': 'attack', 'attacking': 'New Hampshire', 'troops': 2, 'attacked': 'Vermont', 'attacked_player': 4, 'won': 0, 'probability': 0.1165}\n",
      "DICE: [3, 1] [5, 4]\n",
      "{1: -0.34805647682689805, 2: -0.3383017785717825, 3: -0.5974632126378564, 4: -0.2726850043141329}\n",
      "{'move_type': 'attack', 'attacking': 'Maryland', 'troops': 3, 'attacked': 'Delaware', 'attacked_player': 3, 'won': 0, 'probability': 0.07766666666666668}\n",
      "DICE: [5, 3, 1] [5, 4, 4]\n",
      "{1: 0.0950935062030953, 2: -0.9604633025917432, 3: -0.6036239066972341, 4: nan}\n",
      "{'move_type': 'attack', 'attacking': 'South Carolina', 'troops': 3, 'attacked': 'North Carolina', 'attacked_player': 1, 'won': 1, 'probability': 0.15533333333333335}\n",
      "DICE: [6, 3, 2] [3, 2, 1]\n",
      "{1: -0.6266520698321956, 2: -0.5005231088045112, 3: -0.28228664446028756, 4: nan}\n",
      "{'move_type': 'attack', 'attacking': 'South Carolina', 'troops': 3, 'attacked': 'North Carolina', 'attacked_player': 1, 'won': 1, 'probability': 0.15533333333333335}\n",
      "DICE: [3, 3, 2] [6, 5, 3]\n",
      "0\n",
      "0\n",
      "compute for depth 1\n",
      "lightpink plays!\n",
      "{0: -0.29017314071158007, 2: -0.19021479524628573, 3: 0.29445094068577704, 4: 0.4750035117635222}\n",
      "{'move_type': 'reinforce', 'territory': 'Pennsylvania', 'troops': 3}\n"
     ]
    }
   ],
   "source": [
    "import networkx as nx\n",
    "import matplotlib.pyplot as plt\n",
    "import pandas as pd\n",
    "\n",
    "\n",
    "def get_owner_and_troops(state_data):\n",
    "    owner_and_troops = {}\n",
    "    \n",
    "    for player, territories in state_data.items():\n",
    "        for territory, troops in territories.items():\n",
    "            owner_and_troops[territory] = {'owner': player, 'troops': troops}\n",
    "    \n",
    "    return owner_and_troops\n",
    "\n",
    "\n",
    "def augment_graph_with_state(G, state_data):\n",
    "    # Define color mapping for players\n",
    " \n",
    "    player_colors = {\n",
    "        -1: 'gray',  # Neutral color\n",
    "        0: 'blue',   # Customize player 0's color (adjust as needed)\n",
    "        1: 'red',    # Customize player 1's color (adjust as needed)\n",
    "        # Add more player colors as needed\n",
    "    }\n",
    "\n",
    "    # Initialize node colors and labels\n",
    "    node_colors = []\n",
    "    node_labels = {}\n",
    "\n",
    "    # Iterate over nodes in the graph\n",
    "    for node in G.nodes():\n",
    "        player = state_data.get(node, -1)  # Default to neutral color if not found in state data\n",
    "        print(player)\n",
    "        color = player_colors.get(player, 'gray')  # Get player color, default to gray if not found\n",
    "        troops = state_data[node] if player != -1 else 0  # Troops count (0 for neutral)\n",
    "\n",
    "        # Assign the color to nodes and label with troops\n",
    "        node_colors.append(color)\n",
    "        node_labels[node] = troops\n",
    "\n",
    "    return node_colors, node_labels\n",
    "\n",
    "\n",
    "def risk_graph(game, player_colors=PLAYER_COLORS, plot=True):\n",
    "    owner_and_troops = get_owner_and_troops(game.json()['state'])\n",
    "    terr_to_id = {}\n",
    "    id_to_terr = []\n",
    "    for i, terr in enumerate(game.json()['territories']):\n",
    "        terr_to_id[terr['name']] = i\n",
    "        id_to_terr.append(terr['name'])\n",
    "\n",
    "    territory_neighbors = {}\n",
    "    for i, terr in enumerate(game.json()['territories']):\n",
    "        nei = [terr_to_id[adj_terr] for adj_terr in terr['adjacent_territories']]\n",
    "        territory_neighbors[i] = nei\n",
    "    # Create a graph\n",
    "    G = nx.Graph()\n",
    "\n",
    "    # Add edges based on your data\n",
    "    for node, edges in territory_neighbors.items():\n",
    "        for edge in edges:\n",
    "            G.add_edge(node, edge)\n",
    "\n",
    "    node_colors = []\n",
    "    node_labels = {}  # Initialize a dictionary for node labels\n",
    "\n",
    "    for node in G.nodes():\n",
    "        terr_name = id_to_terr[node]\n",
    "        owner_and_n_troops = owner_and_troops[terr_name]\n",
    "        owner = owner_and_n_troops['owner']\n",
    "        n_troops = owner_and_n_troops['troops']\n",
    "        node_colors.append(player_colors[owner])\n",
    "        node_labels[node] = str(n_troops)\n",
    "        G.nodes[node]['owner'] = owner\n",
    "\n",
    "    # Use a different layout algorithm (e.g., Kamada-Kawai)\n",
    "    pos = nx.kamada_kawai_layout(G)\n",
    "\n",
    "    # Customize node and edge attributes for better visualization\n",
    "    node_options = {\n",
    "        \"node_color\": \"skyblue\",\n",
    "        \"node_size\": 1200,\n",
    "        \"linewidths\": 0.5,\n",
    "        \"edgecolors\": \"black\",\n",
    "        \"node_color\": node_colors,\n",
    "        #\"labels\": node_labels\n",
    "    }\n",
    "    edge_options = {\n",
    "        \"width\": 1.0,\n",
    "        \"edge_color\": \"gray\",\n",
    "    }\n",
    "    fig = None\n",
    "    if plot:\n",
    "        # Create a plot and axis object\n",
    "        fig, ax = plt.subplots(figsize=(20, 10))\n",
    "\n",
    "        # Draw nodes and edges on the specified axis\n",
    "        nx.draw_networkx_nodes(G, pos, ax=ax, **node_options)\n",
    "        nx.draw_networkx_edges(G, pos, ax=ax, **edge_options)\n",
    "        nx.draw_networkx_labels(G, pos, labels=node_labels, font_size=15, font_color=\"black\", font_weight=\"bold\", ax=ax)\n",
    "\n",
    "        # Adjust the plot limits for a better view\n",
    "        ax.set_xlim(-1.2, 0.8)\n",
    "        ax.set_ylim(-1, 1)\n",
    "\n",
    "        ax.set_title(\"US Risk Symbolic Map\")\n",
    "        ax.axis(\"off\")  # Turn off axis\n",
    "    \n",
    "    # Return both the graph object and the axis object\n",
    "    return G, fig, player_colors\n",
    "\n",
    "\n",
    "from copy import deepcopy\n",
    "\n",
    "\n",
    "def step(game):\n",
    "    current_player = game.player_turn\n",
    "    game.players[current_player].get_minimax_move(game)\n",
    "\n",
    "\n",
    "def simulate(game, num_of_simulations=10, step=True, plot=False, player_colors=PLAYER_COLORS, depth=1):\n",
    "    simulation_results = {}\n",
    "\n",
    "    current_player = game.player_turn\n",
    "    playing_player = current_player\n",
    "    G, fig, player_colors = risk_graph(game, plot=False)\n",
    "    game_cahce = deepcopy(game)\n",
    "    turn_utilities = []\n",
    "\n",
    "    for i in range(num_of_simulations):\n",
    "        print(f'simulation {i}')\n",
    "        for d in range(depth):\n",
    "            print(f'compute for depth {d}')\n",
    "            if game.players[game.player_turn] is None:\n",
    "                continue\n",
    "            print(f'{player_colors[game.player_turn]} plays!')\n",
    "            \n",
    "            game.players[game.player_turn].get_minimax_move(game)\n",
    "            # In the last one we step\n",
    "            print(len(game.players[game.player_turn].agent.all_utilities_ls[:]))\n",
    "            turn_utilities += game.players[game.player_turn].agent.all_utilities_ls[:]\n",
    "            game.players[game.player_turn].agent.all_utilities_ls = []\n",
    "            print(len(turn_utilities))\n",
    "        if i != num_of_simulations-1 or not step:\n",
    "            game = deepcopy(game_cahce)\n",
    "        \n",
    "    for utilities in turn_utilities:\n",
    "        for k, ls in utilities.items():\n",
    "            if k not in simulation_results:\n",
    "                simulation_results[k] = []\n",
    "            simulation_results[k] += ls\n",
    "        #print(game.players[current_player].agent.all_utilities_ls)\n",
    "    res_df = pd.DataFrame.from_dict(simulation_results, orient='index')\n",
    "    #print(f'debug: {simulation_results}')\n",
    "    #print(res_df.columns)\n",
    "    res_df = res_df.fillna(res_df.mean())\n",
    "    res_df = res_df.transpose()\n",
    "    res_df.rename(columns=player_colors, inplace=True)\n",
    "    player_corr = res_df.corr().loc[player_colors[playing_player]]\n",
    "\n",
    "    game.players[playing_player].agent.all_utilities_ls = []\n",
    "    return playing_player, player_corr\n",
    "\n",
    "\n",
    "from game import Game\n",
    "\n",
    "\n",
    "def simulation(num_of_simulations=15, plot=False):\n",
    "    n_players = 5\n",
    "    # 7 type is minimax\n",
    "    player_types = [7 for p in range(n_players)]\n",
    "    game = Game(map=\"USA\", player_types=player_types, players_num=len(player_types))\n",
    "    game.start()\n",
    "\n",
    "    agreements = []\n",
    "\n",
    "    for i in range(20):\n",
    "        print(f'step number {i} @@@@@@@@@@@@@@@@@@@@@@@@@@@@')\n",
    "        G, _, _ = risk_graph(game=game, plot=False)\n",
    "        shared_edges = remove_duplicates_from_dict(count_edges_between_owners(G=G), filter_by_player=game.player_turn)\n",
    "        playing_player, player_corr = simulate(game=game, num_of_simulations=num_of_simulations, depth=len(game.players))\n",
    "        print(f'correlation for player {PLAYER_COLORS[playing_player]}')\n",
    "        print(player_corr)\n",
    "        no_na_corr = player_corr[player_corr.index != PLAYER_COLORS[playing_player]].dropna()\n",
    "        edges_count = get_edges_df(PLAYER_COLORS[playing_player], shared_edges)\n",
    "        edges_count = edges_count[edges_count.index.isin(no_na_corr.index)]\n",
    "        agreement = \\\n",
    "            calculate_and_sort_spearman_corr(edges_count, no_na_corr)\n",
    "\n",
    "        agreements.append(agreement)\n",
    "        print(f'Consistency {i} @@@@@@@@@@@@@@@@@@@@@@@@@@@@:')\n",
    "        if agreement is np.nan:\n",
    "            print('There is an issue.')\n",
    "        print(edges_count)\n",
    "        print(no_na_corr)\n",
    "        print(agreement)\n",
    "        print('-'*10)\n",
    "    print(np.mean(agreements))\n",
    "    return agreements\n",
    "\n",
    "\n",
    "sim_results = []\n",
    "\n",
    "for _ in range(20):\n",
    "    sim_results.append(simulation(num_of_simulations=10))"
   ]
  },
  {
   "cell_type": "code",
   "execution_count": 14,
   "metadata": {},
   "outputs": [
    {
     "data": {
      "text/plain": [
       "-0.4600000000000001"
      ]
     },
     "execution_count": 14,
     "metadata": {},
     "output_type": "execute_result"
    }
   ],
   "source": [
    "np.mean([r for j in range(len(sim_results)) for r in sim_results[j] if r is not np.nan ])"
   ]
  },
  {
   "cell_type": "code",
   "execution_count": null,
   "metadata": {},
   "outputs": [],
   "source": [
    "sim_results_2 = sim_results"
   ]
  },
  {
   "cell_type": "code",
   "execution_count": null,
   "metadata": {},
   "outputs": [],
   "source": [
    "player_corr"
   ]
  },
  {
   "cell_type": "code",
   "execution_count": null,
   "metadata": {},
   "outputs": [],
   "source": []
  },
  {
   "cell_type": "code",
   "execution_count": null,
   "metadata": {},
   "outputs": [],
   "source": [
    "get_edges_df(PLAYER_COLORS[playing_player], shared_edges)"
   ]
  },
  {
   "cell_type": "code",
   "execution_count": null,
   "metadata": {},
   "outputs": [],
   "source": [
    "player_corr[player_corr.index != PLAYER_COLORS[playing_player]]"
   ]
  },
  {
   "cell_type": "code",
   "execution_count": null,
   "metadata": {},
   "outputs": [],
   "source": [
    "playing_player"
   ]
  },
  {
   "cell_type": "code",
   "execution_count": null,
   "metadata": {},
   "outputs": [],
   "source": []
  },
  {
   "cell_type": "code",
   "execution_count": null,
   "metadata": {},
   "outputs": [],
   "source": [
    "def step(game):\n",
    "    current_player = game.player_turn\n",
    "    game.players[current_player].get_minimax_move(game)\n",
    "\n",
    "for _ in range(10):\n",
    "    step(game=game)"
   ]
  },
  {
   "cell_type": "code",
   "execution_count": null,
   "metadata": {},
   "outputs": [],
   "source": [
    "G, _, _ = risk_graph(game=game)"
   ]
  },
  {
   "cell_type": "code",
   "execution_count": null,
   "metadata": {},
   "outputs": [],
   "source": []
  },
  {
   "cell_type": "code",
   "execution_count": null,
   "metadata": {},
   "outputs": [],
   "source": [
    "node_owner = nx.get_node_attributes(G, 'owner')\n",
    "node_owner\n",
    "#list(G.nodes())"
   ]
  },
  {
   "cell_type": "markdown",
   "metadata": {},
   "source": [
    "Explaining actions:\n",
    "\n",
    "To explain the influence of an attack, we can compute P(attack|success)*utility_for_agents(attack|success) + P(attack|failute)*utility_for_agents(attack|failure)"
   ]
  },
  {
   "cell_type": "code",
   "execution_count": null,
   "metadata": {},
   "outputs": [],
   "source": [
    "simulation_results"
   ]
  },
  {
   "cell_type": "markdown",
   "metadata": {},
   "source": [
    " {-1: 'lightgray',\n",
    "  0: 'lightblue',\n",
    "  1: 'lightpink',\n",
    "  2: 'lightgreen',\n",
    "  3: 'lightyellow',\n",
    "  4: 'lightsalmon',\n",
    "  5: 'lightcoral',\n",
    "  6: 'lightcyan',\n",
    "  7: 'mediumpurple'}"
   ]
  },
  {
   "cell_type": "code",
   "execution_count": null,
   "metadata": {},
   "outputs": [],
   "source": [
    "import pandas as pd\n",
    "\n",
    "\n",
    "pd.DataFrame(simulation_results).corr().iloc[current_player]"
   ]
  },
  {
   "cell_type": "code",
   "execution_count": null,
   "metadata": {},
   "outputs": [],
   "source": [
    "current_player"
   ]
  },
  {
   "cell_type": "code",
   "execution_count": null,
   "metadata": {},
   "outputs": [],
   "source": [
    "risk_graph(game)"
   ]
  },
  {
   "cell_type": "code",
   "execution_count": null,
   "metadata": {},
   "outputs": [],
   "source": []
  },
  {
   "cell_type": "code",
   "execution_count": null,
   "metadata": {},
   "outputs": [],
   "source": []
  },
  {
   "cell_type": "code",
   "execution_count": null,
   "metadata": {},
   "outputs": [],
   "source": [
    "for i, terr in enumerate(game.json()['territories']):\n",
    "    print(terr)\n",
    "    player = terr['occupying_player']\n",
    "    \n",
    "    break"
   ]
  },
  {
   "cell_type": "code",
   "execution_count": null,
   "metadata": {},
   "outputs": [],
   "source": [
    "all_states_risk = set([v for vals in game.json()['state'].values() for v in vals])"
   ]
  },
  {
   "cell_type": "code",
   "execution_count": null,
   "metadata": {},
   "outputs": [],
   "source": [
    "all_states_risk"
   ]
  },
  {
   "cell_type": "code",
   "execution_count": null,
   "metadata": {},
   "outputs": [],
   "source": [
    "territory_neighbors"
   ]
  },
  {
   "cell_type": "code",
   "execution_count": null,
   "metadata": {},
   "outputs": [],
   "source": [
    "# https://medium.com/@jl_ruiz/plot-maps-from-the-us-census-bureau-using-geopandas-and-contextily-in-python-df787647ef77\n",
    "import numpy as np \n",
    "import matplotlib.pyplot as plt \n",
    "import pandas as pd \n",
    "import geopandas as gpd \n",
    "import os \n",
    "from mpl_toolkits.axes_grid1 import make_axes_locatable\n",
    "\n",
    "path = './us_map/tl_2020_us_state.shp'\n",
    "df = gpd.read_file(path)\n",
    "df = df.to_crs(\"EPSG:4326\")"
   ]
  },
  {
   "cell_type": "code",
   "execution_count": null,
   "metadata": {},
   "outputs": [],
   "source": [
    "len(df[df['NAME'].apply(lambda x: x in all_states_risk)])"
   ]
  },
  {
   "cell_type": "code",
   "execution_count": null,
   "metadata": {},
   "outputs": [],
   "source": [
    "len(all_states_risk)"
   ]
  },
  {
   "cell_type": "code",
   "execution_count": null,
   "metadata": {},
   "outputs": [],
   "source": [
    "from shapely.geometry import Point\n",
    "\n",
    "non_continental = ['VI','MP','GU','PR']#'HI','AS''AK',\n",
    "us49 = df.copy()\n",
    "us49 = df[df['NAME'].apply(lambda x: x in all_states_risk)]\n",
    "for n in non_continental:\n",
    "    us49 = us49[us49.STUSPS != n]\n",
    "\n",
    "\n",
    "us49.boundary.plot()\n",
    "us49['centroid'] = us49.centroid\n",
    "\n",
    "\n",
    "# New centroid coordinates for Hawaii\n",
    "new_hawaii_centroid = Point(-130, 35)  # Replace with the desired new coordinates for Hawaii\n",
    "\n",
    "# New centroid coordinates for Alaska\n",
    "new_alaska_centroid = Point(-130, 50)  # Replace with the desired new coordinates for Alaska\n",
    "\n",
    "# Update the geometry of Hawaii (assuming 'NAME' column contains state names)\n",
    "us49.loc[us49['NAME'] == 'Hawaii', 'centroid'] = new_hawaii_centroid\n",
    "\n",
    "# Update the geometry of Alaska\n",
    "us49.loc[us49['NAME'] == 'Alaska', 'centroid'] = new_alaska_centroid\n",
    "\n",
    "\n",
    "us49 = us49.reset_index()\n",
    "\n",
    "plt.show()"
   ]
  },
  {
   "cell_type": "code",
   "execution_count": null,
   "metadata": {},
   "outputs": [],
   "source": [
    "us49['centroid'].apply(lambda x: x.x).max()"
   ]
  },
  {
   "cell_type": "code",
   "execution_count": null,
   "metadata": {},
   "outputs": [],
   "source": [
    "len(us49)"
   ]
  },
  {
   "cell_type": "code",
   "execution_count": null,
   "metadata": {},
   "outputs": [],
   "source": [
    "len(us49['centroid'])"
   ]
  },
  {
   "cell_type": "code",
   "execution_count": null,
   "metadata": {},
   "outputs": [],
   "source": []
  },
  {
   "cell_type": "code",
   "execution_count": null,
   "metadata": {},
   "outputs": [],
   "source": [
    "for i in range(len(us49)):\n",
    "    if i % 2 == 0:\n",
    "        us49.at[i, 'owner'] = 0\n",
    "    elif i % 3 == 0:\n",
    "        us49.at[i, 'owner'] = 1\n",
    "    elif i % 5 == 0:\n",
    "        us49.at[i, 'owner'] = 3\n",
    "    else:\n",
    "        us49.at[i, 'owner'] = 4"
   ]
  },
  {
   "cell_type": "code",
   "execution_count": null,
   "metadata": {},
   "outputs": [],
   "source": [
    "us49['owner'].unique()"
   ]
  },
  {
   "cell_type": "code",
   "execution_count": null,
   "metadata": {},
   "outputs": [],
   "source": [
    "len(us49['centroid'])"
   ]
  },
  {
   "cell_type": "code",
   "execution_count": null,
   "metadata": {},
   "outputs": [],
   "source": [
    "# Assuming you have a GeoDataFrame of US states called 'us49' with an 'owner' column containing values 1 to 7.\n",
    "\n",
    "# Create a figure and axis\n",
    "f, ax = plt.subplots(1, 1, figsize=(8, 8), sharex=True, sharey=True, dpi=300)\n",
    "plt.title('Map of US States with Centroids')\n",
    "divider = make_axes_locatable(ax)\n",
    "cax = divider.append_axes(\"right\", size=\"3%\", pad=0, alpha=0.5)\n",
    "\n",
    "# Replace 'owner' with the name of the column you want to use\n",
    "plt.ylabel('Owner', fontsize=6)\n",
    "\n",
    "# Define a list of 7 predefined colors\n",
    "colors = ['red', 'blue', 'green', 'orange', 'purple', 'cyan', 'pink']\n",
    "colors = ['lightcoral', 'lightblue', 'lightgreen', 'lightseagreen', 'lightpink', 'lightcyan', 'lavender']\n",
    "\n",
    "#us49.plot(ax=ax, alpha=0.8, cmap='Pastel1', edgecolor='k', legend=True, cax=cax, linewidth=0.1,label='Inline label')\n",
    "\n",
    "# Iterate through colors and plot centroids with a different color if there are points\n",
    "for i, color in enumerate(colors):\n",
    "    subset = us49[us49['owner'] == i]  # Assuming owner values are 1 to 7\n",
    "    if not subset.empty:\n",
    "        subset['centroid'].plot(ax=ax, marker='o', color=color, markersize=40, label=f'Owner {i + 1}')\n",
    "\n",
    "for i in range(len(us49['centroid'])):\n",
    "    centroid = us49['centroid'].iloc[i]\n",
    "    ax.annotate(\"1\", xy=(centroid.x, centroid.y), fontsize=8, ha='center')\n",
    "    ax.annotate(us49['NAME'].iloc[i], xy=(centroid.x, centroid.y), fontsize=2, ha='center')\n",
    "ax.set_xlim(-150, -60)\n",
    "# Add a legend\n",
    "ax.legend(fontsize=6)\n",
    "plt.show()"
   ]
  },
  {
   "cell_type": "code",
   "execution_count": null,
   "metadata": {},
   "outputs": [],
   "source": [
    "import matplotlib.pyplot as plt\n",
    "from mpl_toolkits.axes_grid1 import make_axes_locatable\n",
    "from itertools import cycle\n",
    "\n",
    "# Assuming you have a GeoDataFrame of US states called 'us49' with an 'owner' column containing values 1 to 7.\n",
    "\n",
    "# Create a figure and axis\n",
    "f, ax = plt.subplots(1, 1, figsize=(8, 8), sharex=True, sharey=True, dpi=300)\n",
    "plt.title('Map of US States with Centroids')\n",
    "divider = make_axes_locatable(ax)\n",
    "cax = divider.append_axes(\"right\", size=\"3%\", pad=0, alpha=0.5)\n",
    "\n",
    "# Replace 'owner' with the name of the column you want to use\n",
    "plt.ylabel('Owner', fontsize=6)\n",
    "\n",
    "# Define a list of 7 predefined colors\n",
    "colors = ['red', 'blue', 'green', 'orange', 'purple', 'cyan', 'pink']\n",
    "\n",
    "# Create a cycle of the 7 colors\n",
    "color_cycle = cycle(colors)\n",
    "\n",
    "# Plot the centroids with colors based on the 'owner' column\n",
    "for owner_value in range(1, 8):\n",
    "    subset = us49[us49['owner'] == owner_value]\n",
    "    color = next(color_cycle)  # Get the next color from the cycle\n",
    "    subset['centroid'].plot(ax=ax, marker='o', color=color, markersize=100, label=f'Owner {owner_value}')\n",
    "\n",
    "# Add a legend\n",
    "ax.legend(fontsize=6)\n",
    "\n",
    "plt.show()\n"
   ]
  },
  {
   "cell_type": "code",
   "execution_count": null,
   "metadata": {},
   "outputs": [],
   "source": [
    "import matplotlib.pyplot as plt\n",
    "from mpl_toolkits.axes_grid1 import make_axes_locatable\n",
    "\n",
    "# Assuming you have a GeoDataFrame of US states called 'us49' with an 'owner' column containing values 1 to 7 and possibly NaN.\n",
    "\n",
    "# Define a list of 7 colors for the 7 possible values\n",
    "colors = ['red', 'blue', 'green', 'orange', 'purple', 'cyan', 'pink']\n",
    "\n",
    "# Create a figure and axis\n",
    "f, ax = plt.subplots(1, 1, figsize=(8, 8), sharex=True, sharey=True, dpi=300)\n",
    "plt.title('Map of US States with Centroids')\n",
    "divider = make_axes_locatable(ax)\n",
    "cax = divider.append_axes(\"right\", size=\"3%\", pad=0, alpha=0.5)\n",
    "\n",
    "# Replace 'owner' with the name of the column you want to use\n",
    "plt.ylabel('owner', fontsize=6)\n",
    "\n",
    "# Fill NaN values in the 'owner' column with a default value, e.g., 0\n",
    "us49['owner'].fillna(0, inplace=True)\n",
    "\n",
    "# Plot the centroids with colors based on the 'owner' column values (1 to 7)\n",
    "for i in range(1, 8):\n",
    "    subset = us49[us49['owner'] == i]\n",
    "    color = colors[i - 1]  # Assign a color from the list\n",
    "    subset['centroid'].plot(ax=ax, marker='o', color=color, markersize=100, label=f'Owner {i}')\n",
    "\n",
    "# Add a legend\n",
    "ax.legend(fontsize=6)\n",
    "\n",
    "plt.show()\n"
   ]
  },
  {
   "cell_type": "code",
   "execution_count": null,
   "metadata": {},
   "outputs": [],
   "source": [
    "\n",
    "f,ax = plt.subplots(1,1, figsize=(8,8), sharex=True, sharey=True, dpi=300)\n",
    "plt.title('Map of US States with Centroids')\n",
    "divider = make_axes_locatable(ax)\n",
    "cax = divider.append_axes(\"right\", size=\"3%\",pad=0,alpha=0.5)\n",
    "us49.plot(ax=ax, alpha=0.5, cmap='Pastel1', edgecolor='k', legend=True, cax=cax, linewidth=0.1,label='Inline label')\n",
    "plt.ylabel('owner', fontsize=6)\n",
    "us49['centroid'].plot(ax=ax, marker='o', color='green', markersize=100)\n",
    "\n",
    "plt.show()"
   ]
  },
  {
   "cell_type": "code",
   "execution_count": null,
   "metadata": {},
   "outputs": [],
   "source": [
    "us49.columns"
   ]
  },
  {
   "cell_type": "code",
   "execution_count": null,
   "metadata": {},
   "outputs": [],
   "source": [
    "f,ax = plt.subplots(1,1, figsize=(8,6), sharex=True, sharey=True, dpi=300)\n",
    "plt.title('Simple Map of US States')\n",
    "divider = make_axes_locatable(ax)\n",
    "cax = divider.append_axes(\"right\", size=\"3%\",pad=0,alpha=0.5)\n",
    "us49.plot(ax=ax, alpha=0.5, edgecolor='k', legend=True, cax=cax, linewidth=0.1)\n",
    "plt.show()"
   ]
  },
  {
   "cell_type": "code",
   "execution_count": null,
   "metadata": {},
   "outputs": [],
   "source": [
    "f,ax = plt.subplots(1,1, figsize=(8,6), sharex=True, sharey=True, dpi=300)\n",
    "plt.title('Map of US States with Centroids')\n",
    "divider = make_axes_locatable(ax)\n",
    "cax = divider.append_axes(\"right\", size=\"3%\",pad=0,alpha=0.5)\n",
    "us49.plot('ALAND_miles', ax=ax, alpha=0.5, cmap='Pastel1', edgecolor='k', legend=True, cax=cax, linewidth=0.1,label='Inline label')\n",
    "plt.ylabel('Square miles', fontsize=6)\n",
    "us49['centroid'].plot(ax=ax, marker='o', color='red', markersize=5)\n",
    "plt.show()"
   ]
  },
  {
   "cell_type": "code",
   "execution_count": null,
   "metadata": {},
   "outputs": [],
   "source": [
    "f,ax = plt.subplots(1,1, figsize=(8,6), sharex=True, sharey=True, dpi=300)\n",
    "plt.title('Simple Map of US States')\n",
    "divider = make_axes_locatable(ax)\n",
    "cax = divider.append_axes(\"right\", size=\"3%\",pad=0,alpha=0.5)\n",
    "us49.plot('ALAND', ax=ax, alpha=0.5, cmap='Pastel1', edgecolor='k', legend=True, cax=cax, linewidth=0.1)\n",
    "plt.show()"
   ]
  },
  {
   "cell_type": "code",
   "execution_count": null,
   "metadata": {},
   "outputs": [],
   "source": [
    "territory_neighbors"
   ]
  },
  {
   "cell_type": "code",
   "execution_count": null,
   "metadata": {},
   "outputs": [],
   "source": [
    "territory_neighbors"
   ]
  },
  {
   "cell_type": "code",
   "execution_count": null,
   "metadata": {},
   "outputs": [],
   "source": [
    "import networkx as nx\n",
    "import matplotlib.pyplot as plt\n",
    "# Create a graph\n",
    "G = nx.Graph()\n",
    "\n",
    "# Add edges based on your data\n",
    "for node, edges in territory_neighbors.items():\n",
    "    for edge in edges:\n",
    "        G.add_edge(node, edge)\n",
    "\n",
    "# Plot the graph\n",
    "pos = nx.spring_layout(G, seed=42, k=0.5)  # Define the layout for better visualization\n",
    "plt.figure(figsize=(12, 8))\n",
    "\n",
    "nx.draw(G, pos, with_labels=True, node_size=1000, node_color='skyblue', font_size=10, font_color='black', font_weight='bold')\n",
    "plt.title(\"Your Graph\")\n",
    "plt.show()"
   ]
  },
  {
   "cell_type": "code",
   "execution_count": null,
   "metadata": {},
   "outputs": [],
   "source": [
    "territory_neighbors"
   ]
  },
  {
   "cell_type": "code",
   "execution_count": null,
   "metadata": {},
   "outputs": [],
   "source": []
  },
  {
   "cell_type": "code",
   "execution_count": null,
   "metadata": {},
   "outputs": [],
   "source": [
    "game.json()['territories']"
   ]
  }
 ],
 "metadata": {
  "kernelspec": {
   "display_name": "research",
   "language": "python",
   "name": "python3"
  },
  "language_info": {
   "codemirror_mode": {
    "name": "ipython",
    "version": 3
   },
   "file_extension": ".py",
   "mimetype": "text/x-python",
   "name": "python",
   "nbconvert_exporter": "python",
   "pygments_lexer": "ipython3",
   "version": "3.8.15"
  },
  "orig_nbformat": 4
 },
 "nbformat": 4,
 "nbformat_minor": 2
}
